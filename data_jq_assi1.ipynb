{
 "cells": [
  {
   "cell_type": "code",
   "execution_count": 1,
   "metadata": {},
   "outputs": [],
   "source": [
    "# Target 获取数据并保存到本地csv\n",
    "# 沪深300指数 - daily - JoinQuant\n",
    "# 2005-09-01 - 2012-03-15"
   ]
  },
  {
   "cell_type": "code",
   "execution_count": 6,
   "metadata": {},
   "outputs": [],
   "source": [
    "import pandas as pd\n",
    "import tushare as ts\n",
    "import jqdatasdk     # JoinQuant SDK\n",
    "import os"
   ]
  },
  {
   "cell_type": "code",
   "execution_count": 36,
   "metadata": {},
   "outputs": [
    {
     "name": "stdout",
     "output_type": "stream",
     "text": [
      "{'total': 500000, 'spare': 483519}\n"
     ]
    }
   ],
   "source": [
    "# 登录认证\n",
    "jqdatasdk.auth(\"18867905508\", \"Ljy19950217\") # user & password\n",
    "count_num = jqdatasdk.get_query_count() # 总共能查多少data 还剩能查多少data\n",
    "print(count_num)"
   ]
  },
  {
   "cell_type": "code",
   "execution_count": 35,
   "metadata": {},
   "outputs": [
    {
     "name": "stderr",
     "output_type": "stream",
     "text": [
      "/Users/lijunyu/opt/anaconda3/envs/JunPython3_7/lib/python3.7/site-packages/jqdatasdk/api.py:34: PanelObsoleteWarning: 当前环境 pandas 版本高于 0.25，get_price 与 get_fundamentals_continuously 接口的 panel 参数将固定为 False（0.25 及以上版本的 pandas 不再支持 panel，如使用该数据结构和相关函数请注意修改）\n",
      "  warnings.warn(PandasChecker.VERSION_NOTICE_MESSAGE, PanelObsoleteWarning)\n"
     ]
    },
    {
     "data": {
      "text/html": [
       "<div>\n",
       "<style scoped>\n",
       "    .dataframe tbody tr th:only-of-type {\n",
       "        vertical-align: middle;\n",
       "    }\n",
       "\n",
       "    .dataframe tbody tr th {\n",
       "        vertical-align: top;\n",
       "    }\n",
       "\n",
       "    .dataframe thead th {\n",
       "        text-align: right;\n",
       "    }\n",
       "</style>\n",
       "<table border=\"1\" class=\"dataframe\">\n",
       "  <thead>\n",
       "    <tr style=\"text-align: right;\">\n",
       "      <th></th>\n",
       "      <th>open</th>\n",
       "      <th>close</th>\n",
       "      <th>high</th>\n",
       "      <th>low</th>\n",
       "      <th>volume</th>\n",
       "      <th>money</th>\n",
       "    </tr>\n",
       "  </thead>\n",
       "  <tbody>\n",
       "    <tr>\n",
       "      <th>2012-09-03</th>\n",
       "      <td>2201.12</td>\n",
       "      <td>2228.37</td>\n",
       "      <td>2236.56</td>\n",
       "      <td>2197.71</td>\n",
       "      <td>3.854859e+09</td>\n",
       "      <td>3.529918e+10</td>\n",
       "    </tr>\n",
       "    <tr>\n",
       "      <th>2012-09-04</th>\n",
       "      <td>2231.72</td>\n",
       "      <td>2204.41</td>\n",
       "      <td>2234.88</td>\n",
       "      <td>2199.51</td>\n",
       "      <td>3.485269e+09</td>\n",
       "      <td>3.322020e+10</td>\n",
       "    </tr>\n",
       "    <tr>\n",
       "      <th>2012-09-05</th>\n",
       "      <td>2199.74</td>\n",
       "      <td>2199.88</td>\n",
       "      <td>2209.54</td>\n",
       "      <td>2186.96</td>\n",
       "      <td>3.475182e+09</td>\n",
       "      <td>3.044517e+10</td>\n",
       "    </tr>\n",
       "    <tr>\n",
       "      <th>2012-09-06</th>\n",
       "      <td>2204.44</td>\n",
       "      <td>2217.82</td>\n",
       "      <td>2218.68</td>\n",
       "      <td>2199.86</td>\n",
       "      <td>3.169588e+09</td>\n",
       "      <td>2.687332e+10</td>\n",
       "    </tr>\n",
       "    <tr>\n",
       "      <th>2012-09-07</th>\n",
       "      <td>2233.91</td>\n",
       "      <td>2317.18</td>\n",
       "      <td>2341.52</td>\n",
       "      <td>2233.91</td>\n",
       "      <td>9.452976e+09</td>\n",
       "      <td>8.430225e+10</td>\n",
       "    </tr>\n",
       "  </tbody>\n",
       "</table>\n",
       "</div>"
      ],
      "text/plain": [
       "               open    close     high      low        volume         money\n",
       "2012-09-03  2201.12  2228.37  2236.56  2197.71  3.854859e+09  3.529918e+10\n",
       "2012-09-04  2231.72  2204.41  2234.88  2199.51  3.485269e+09  3.322020e+10\n",
       "2012-09-05  2199.74  2199.88  2209.54  2186.96  3.475182e+09  3.044517e+10\n",
       "2012-09-06  2204.44  2217.82  2218.68  2199.86  3.169588e+09  2.687332e+10\n",
       "2012-09-07  2233.91  2317.18  2341.52  2233.91  9.452976e+09  8.430225e+10"
      ]
     },
     "execution_count": 35,
     "metadata": {},
     "output_type": "execute_result"
    }
   ],
   "source": [
    "# 获取数据\n",
    "data = jqdatasdk.get_price(\"000300.XSHG\", start_date=\"2012-09-01\", end_date=\"2021-09-01\", frequency=\"daily\")\n",
    "data.head()"
   ]
  },
  {
   "cell_type": "code",
   "execution_count": 37,
   "metadata": {},
   "outputs": [
    {
     "data": {
      "text/plain": [
       "DatetimeIndex(['2012-09-03', '2012-09-04', '2012-09-05', '2012-09-06',\n",
       "               '2012-09-07', '2012-09-10', '2012-09-11', '2012-09-12',\n",
       "               '2012-09-13', '2012-09-14',\n",
       "               ...\n",
       "               '2021-08-19', '2021-08-20', '2021-08-23', '2021-08-24',\n",
       "               '2021-08-25', '2021-08-26', '2021-08-27', '2021-08-30',\n",
       "               '2021-08-31', '2021-09-01'],\n",
       "              dtype='datetime64[ns]', length=2189, freq=None)"
      ]
     },
     "execution_count": 37,
     "metadata": {},
     "output_type": "execute_result"
    }
   ],
   "source": [
    "data.index # 需要把数据的index \"时间戳\" 也存进本地csv文件"
   ]
  },
  {
   "cell_type": "code",
   "execution_count": 38,
   "metadata": {},
   "outputs": [],
   "source": [
    "# 获取的数据存为本地csv文件 以便读取修改dataframe\n",
    "data.to_csv(\"/Users/lijunyu/Desktop/000300_daily.csv\", index = True) # index = True保留日期索引"
   ]
  },
  {
   "cell_type": "code",
   "execution_count": 39,
   "metadata": {},
   "outputs": [
    {
     "data": {
      "text/html": [
       "<div>\n",
       "<style scoped>\n",
       "    .dataframe tbody tr th:only-of-type {\n",
       "        vertical-align: middle;\n",
       "    }\n",
       "\n",
       "    .dataframe tbody tr th {\n",
       "        vertical-align: top;\n",
       "    }\n",
       "\n",
       "    .dataframe thead th {\n",
       "        text-align: right;\n",
       "    }\n",
       "</style>\n",
       "<table border=\"1\" class=\"dataframe\">\n",
       "  <thead>\n",
       "    <tr style=\"text-align: right;\">\n",
       "      <th></th>\n",
       "      <th>DateTime</th>\n",
       "      <th>Open</th>\n",
       "      <th>Close</th>\n",
       "      <th>High</th>\n",
       "      <th>Low</th>\n",
       "      <th>Volume</th>\n",
       "      <th>Money</th>\n",
       "    </tr>\n",
       "  </thead>\n",
       "  <tbody>\n",
       "    <tr>\n",
       "      <th>0</th>\n",
       "      <td>2012-09-03</td>\n",
       "      <td>2201.12</td>\n",
       "      <td>2228.37</td>\n",
       "      <td>2236.56</td>\n",
       "      <td>2197.71</td>\n",
       "      <td>3.854859e+09</td>\n",
       "      <td>3.529918e+10</td>\n",
       "    </tr>\n",
       "    <tr>\n",
       "      <th>1</th>\n",
       "      <td>2012-09-04</td>\n",
       "      <td>2231.72</td>\n",
       "      <td>2204.41</td>\n",
       "      <td>2234.88</td>\n",
       "      <td>2199.51</td>\n",
       "      <td>3.485269e+09</td>\n",
       "      <td>3.322020e+10</td>\n",
       "    </tr>\n",
       "    <tr>\n",
       "      <th>2</th>\n",
       "      <td>2012-09-05</td>\n",
       "      <td>2199.74</td>\n",
       "      <td>2199.88</td>\n",
       "      <td>2209.54</td>\n",
       "      <td>2186.96</td>\n",
       "      <td>3.475182e+09</td>\n",
       "      <td>3.044517e+10</td>\n",
       "    </tr>\n",
       "    <tr>\n",
       "      <th>3</th>\n",
       "      <td>2012-09-06</td>\n",
       "      <td>2204.44</td>\n",
       "      <td>2217.82</td>\n",
       "      <td>2218.68</td>\n",
       "      <td>2199.86</td>\n",
       "      <td>3.169588e+09</td>\n",
       "      <td>2.687332e+10</td>\n",
       "    </tr>\n",
       "    <tr>\n",
       "      <th>4</th>\n",
       "      <td>2012-09-07</td>\n",
       "      <td>2233.91</td>\n",
       "      <td>2317.18</td>\n",
       "      <td>2341.52</td>\n",
       "      <td>2233.91</td>\n",
       "      <td>9.452976e+09</td>\n",
       "      <td>8.430225e+10</td>\n",
       "    </tr>\n",
       "  </tbody>\n",
       "</table>\n",
       "</div>"
      ],
      "text/plain": [
       "     DateTime     Open    Close     High      Low        Volume         Money\n",
       "0  2012-09-03  2201.12  2228.37  2236.56  2197.71  3.854859e+09  3.529918e+10\n",
       "1  2012-09-04  2231.72  2204.41  2234.88  2199.51  3.485269e+09  3.322020e+10\n",
       "2  2012-09-05  2199.74  2199.88  2209.54  2186.96  3.475182e+09  3.044517e+10\n",
       "3  2012-09-06  2204.44  2217.82  2218.68  2199.86  3.169588e+09  2.687332e+10\n",
       "4  2012-09-07  2233.91  2317.18  2341.52  2233.91  9.452976e+09  8.430225e+10"
      ]
     },
     "execution_count": 39,
     "metadata": {},
     "output_type": "execute_result"
    }
   ],
   "source": [
    "# 重新读取本地csv文件并进行数据预处理\n",
    "df_300 = pd.read_csv(\"000300_daily.csv\", header=0, names=[\"DateTime\", \"Open\", \"Close\", \"High\", \"Low\", \"Volume\", \"Money\"])\n",
    "df_300.head()"
   ]
  },
  {
   "cell_type": "code",
   "execution_count": 34,
   "metadata": {},
   "outputs": [
    {
     "data": {
      "text/plain": [
       "(1588, 7)"
      ]
     },
     "execution_count": 34,
     "metadata": {},
     "output_type": "execute_result"
    }
   ],
   "source": [
    "df_300.shape"
   ]
  }
 ],
 "metadata": {
  "interpreter": {
   "hash": "04469d538f16dd033c8f8d3424eefc10d92609777f2d28f6d2224a2c0c89d729"
  },
  "kernelspec": {
   "display_name": "Python 3.7.11 ('JunPython3_7')",
   "language": "python",
   "name": "python3"
  },
  "language_info": {
   "codemirror_mode": {
    "name": "ipython",
    "version": 3
   },
   "file_extension": ".py",
   "mimetype": "text/x-python",
   "name": "python",
   "nbconvert_exporter": "python",
   "pygments_lexer": "ipython3",
   "version": "3.7.11"
  },
  "orig_nbformat": 4
 },
 "nbformat": 4,
 "nbformat_minor": 2
}

{
 "cells": [
  {
   "cell_type": "code",
   "execution_count": null,
   "metadata": {},
   "outputs": [],
   "source": [
    "# 布林带策略\n",
    "# 数据：沪深300 日频数据 from JoinQuant\n",
    "# 策略核心：\n",
    "# 当收盘价'Close'上穿上轨线，买入\n",
    "# 当收盘价'Close'下穿下轨线，卖空\n",
    "\n",
    "# 定义上中下轨道\n"
   ]
  }
 ],
 "metadata": {
  "language_info": {
   "name": "python"
  },
  "orig_nbformat": 4
 },
 "nbformat": 4,
 "nbformat_minor": 2
}

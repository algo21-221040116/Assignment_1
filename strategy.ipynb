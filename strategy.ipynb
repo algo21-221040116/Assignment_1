{
 "cells": [
  {
   "cell_type": "code",
   "execution_count": null,
   "metadata": {},
   "outputs": [],
   "source": [
    "# 布林带策略\n",
    "# 数据：沪深300 日频数据 from JoinQuant\n",
    "# 策略核心：\n",
    "# 当收盘价'Close'上穿上轨线，买入\n",
    "# 当收盘价'Close'下穿下轨线，卖空\n",
    "\n",
    "# 定义上中下轨道 mid & up & down"
   ]
  },
  {
   "cell_type": "code",
   "execution_count": 2,
   "metadata": {},
   "outputs": [],
   "source": [
    "import pandas as pd\n",
    "import tushare as ts\n",
    "import jqdatasdk\n",
    "import os"
   ]
  },
  {
   "cell_type": "code",
   "execution_count": 3,
   "metadata": {},
   "outputs": [
    {
     "data": {
      "text/html": [
       "<div>\n",
       "<style scoped>\n",
       "    .dataframe tbody tr th:only-of-type {\n",
       "        vertical-align: middle;\n",
       "    }\n",
       "\n",
       "    .dataframe tbody tr th {\n",
       "        vertical-align: top;\n",
       "    }\n",
       "\n",
       "    .dataframe thead th {\n",
       "        text-align: right;\n",
       "    }\n",
       "</style>\n",
       "<table border=\"1\" class=\"dataframe\">\n",
       "  <thead>\n",
       "    <tr style=\"text-align: right;\">\n",
       "      <th></th>\n",
       "      <th>DateTime</th>\n",
       "      <th>Open</th>\n",
       "      <th>Close</th>\n",
       "      <th>High</th>\n",
       "      <th>Low</th>\n",
       "      <th>Volume</th>\n",
       "      <th>Money</th>\n",
       "    </tr>\n",
       "  </thead>\n",
       "  <tbody>\n",
       "    <tr>\n",
       "      <th>0</th>\n",
       "      <td>2012-09-03</td>\n",
       "      <td>2201.12</td>\n",
       "      <td>2228.37</td>\n",
       "      <td>2236.56</td>\n",
       "      <td>2197.71</td>\n",
       "      <td>3.854859e+09</td>\n",
       "      <td>3.529918e+10</td>\n",
       "    </tr>\n",
       "    <tr>\n",
       "      <th>1</th>\n",
       "      <td>2012-09-04</td>\n",
       "      <td>2231.72</td>\n",
       "      <td>2204.41</td>\n",
       "      <td>2234.88</td>\n",
       "      <td>2199.51</td>\n",
       "      <td>3.485269e+09</td>\n",
       "      <td>3.322020e+10</td>\n",
       "    </tr>\n",
       "    <tr>\n",
       "      <th>2</th>\n",
       "      <td>2012-09-05</td>\n",
       "      <td>2199.74</td>\n",
       "      <td>2199.88</td>\n",
       "      <td>2209.54</td>\n",
       "      <td>2186.96</td>\n",
       "      <td>3.475182e+09</td>\n",
       "      <td>3.044517e+10</td>\n",
       "    </tr>\n",
       "    <tr>\n",
       "      <th>3</th>\n",
       "      <td>2012-09-06</td>\n",
       "      <td>2204.44</td>\n",
       "      <td>2217.82</td>\n",
       "      <td>2218.68</td>\n",
       "      <td>2199.86</td>\n",
       "      <td>3.169588e+09</td>\n",
       "      <td>2.687332e+10</td>\n",
       "    </tr>\n",
       "    <tr>\n",
       "      <th>4</th>\n",
       "      <td>2012-09-07</td>\n",
       "      <td>2233.91</td>\n",
       "      <td>2317.18</td>\n",
       "      <td>2341.52</td>\n",
       "      <td>2233.91</td>\n",
       "      <td>9.452976e+09</td>\n",
       "      <td>8.430225e+10</td>\n",
       "    </tr>\n",
       "  </tbody>\n",
       "</table>\n",
       "</div>"
      ],
      "text/plain": [
       "     DateTime     Open    Close     High      Low        Volume         Money\n",
       "0  2012-09-03  2201.12  2228.37  2236.56  2197.71  3.854859e+09  3.529918e+10\n",
       "1  2012-09-04  2231.72  2204.41  2234.88  2199.51  3.485269e+09  3.322020e+10\n",
       "2  2012-09-05  2199.74  2199.88  2209.54  2186.96  3.475182e+09  3.044517e+10\n",
       "3  2012-09-06  2204.44  2217.82  2218.68  2199.86  3.169588e+09  2.687332e+10\n",
       "4  2012-09-07  2233.91  2317.18  2341.52  2233.91  9.452976e+09  8.430225e+10"
      ]
     },
     "execution_count": 3,
     "metadata": {},
     "output_type": "execute_result"
    }
   ],
   "source": [
    "# 读取本地下载好的沪深300_daily csv文件并进行数据预处理\n",
    "df_300 = pd.read_csv(\"000300_daily.csv\", header=0, names=[\"DateTime\", \"Open\", \"Close\", \"High\", \"Low\", \"Volume\", \"Money\"])\n",
    "df_300.head()"
   ]
  }
 ],
 "metadata": {
  "interpreter": {
   "hash": "04469d538f16dd033c8f8d3424eefc10d92609777f2d28f6d2224a2c0c89d729"
  },
  "kernelspec": {
   "display_name": "Python 3.7.11 ('JunPython3_7')",
   "language": "python",
   "name": "python3"
  },
  "language_info": {
   "codemirror_mode": {
    "name": "ipython",
    "version": 3
   },
   "file_extension": ".py",
   "mimetype": "text/x-python",
   "name": "python",
   "nbconvert_exporter": "python",
   "pygments_lexer": "ipython3",
   "version": "3.7.11"
  },
  "orig_nbformat": 4
 },
 "nbformat": 4,
 "nbformat_minor": 2
}
